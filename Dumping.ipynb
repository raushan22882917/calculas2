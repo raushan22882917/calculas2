{
  "nbformat": 4,
  "nbformat_minor": 0,
  "metadata": {
    "colab": {
      "provenance": [],
      "authorship_tag": "ABX9TyPBODCl46q/k+Am248GVSCN",
      "include_colab_link": true
    },
    "kernelspec": {
      "name": "python3",
      "display_name": "Python 3"
    },
    "language_info": {
      "name": "python"
    }
  },
  "cells": [
    {
      "cell_type": "markdown",
      "metadata": {
        "id": "view-in-github",
        "colab_type": "text"
      },
      "source": [
        "<a href=\"https://colab.research.google.com/github/raushan22882917/calculas2/blob/main/Dumping.ipynb\" target=\"_parent\"><img src=\"https://colab.research.google.com/assets/colab-badge.svg\" alt=\"Open In Colab\"/></a>"
      ]
    },
    {
      "cell_type": "code",
      "execution_count": 1,
      "metadata": {
        "id": "6_0oEYOa0DgI"
      },
      "outputs": [],
      "source": [
        "import matplotlib.pyplot as plt\n",
        "import math as m"
      ]
    },
    {
      "cell_type": "code",
      "source": [
        "# Checking damping type.\n",
        "def Damping(a, b, c, v, x):\n",
        "    '''\n",
        "    Return the type of damping.\n",
        "    \n",
        "    parameter a: It is the coefficient of double derivative.\n",
        "    precondition: It must be numeric value.\n",
        "\n",
        "    parameter b: It is the coefficient of first derivative.\n",
        "    precondition: It must be numeric value.\n",
        "\n",
        "    parameter c: It is the coefficient of x.\n",
        "    precondition: It must be numeric value.\n",
        "\n",
        "    parameter a: It is the coefficient of double derivative.\n",
        "    precondition: It must be numeric value.\n",
        "\n",
        "    parameter x_0: It is the value of x at t=0.\n",
        "    precondition: It must be numeric value.\n",
        "\n",
        "    parameter v_0: It is the value of x derivative at t = 0.\n",
        "    precondition: It must be numeric value.\n",
        "    '''\n",
        "    if b ** 2 - 4 * a * c > 0:\n",
        "        return 'Over Damped'\n",
        "    elif b ** 2 - 4 * a * c == 0:\n",
        "        return 'Critically Damped'\n",
        "    else:\n",
        "        return 'Under Damped'"
      ],
      "metadata": {
        "id": "WosO9OiJ0Gf1"
      },
      "execution_count": 2,
      "outputs": []
    },
    {
      "cell_type": "code",
      "source": [
        "def graphtype(a, b, c, x_0, v_0):\n",
        "    '''\n",
        "    Draw the graph based on damping type.\n",
        "    \n",
        "    parameter a: It is the coefficient of double derivative.\n",
        "    precondition: It must be numeric value.\n",
        "\n",
        "    parameter b: It is the coefficient of first derivative.\n",
        "    precondition: It must be numeric value.\n",
        "\n",
        "    parameter c: It is the coefficient of x.\n",
        "    precondition: It must be numeric value.\n",
        "\n",
        "    parameter a: It is the coefficient of double derivative.\n",
        "    precondition: It must be numeric value.\n",
        "\n",
        "    parameter x_0: It is the value of x at t=0.\n",
        "    precondition: It must be numeric value.\n",
        "\n",
        "    parameter v_0: It is the value of x derivative at t = 0.\n",
        "    precondition: It must be numeric value.\n",
        "    '''\n",
        "    value = Damping(a, b, c, x_0, v_0)\n",
        "    if value == 'Over Damped':\n",
        "        print('Damping type is: ', value)\n",
        "        # calculating d1 and d2\n",
        "        d1 = (v_0 - x_0 * lambda_2) / (lambda_1 - lambda_2)\n",
        "        d2 = (v_0 - x_0 * lambda_1) / (lambda_2 - lambda_1)\n",
        "        t_list = [i / 100 for i in range(101)]  # creating list of time each time differ by 0.01\n",
        "        x_list = []\n",
        "        for t in t_list:\n",
        "            # using eval method to parsh value of t in expression.\n",
        "            x_list.append(eval('d1 * m.exp((lambda_1) * t) + d2 * m.exp((lambda_2) * t)'))\n",
        "    elif value == 'Critically Damped':\n",
        "        print('Damping type is: ', value)\n",
        "        t_list = [i / 100 for i in range(1001)]   # creating list of time.\n",
        "        x_list = []\n",
        "        for t in t_list:\n",
        "            x_list.append(eval('(x_0 + (v_0 - lambda_1* x_0) * t) * m.exp(lambda_1 * t)'))\n",
        "    else:\n",
        "        print('Damping type is: ', value)\n",
        "        t_list = [i / 100 for i in range(1001)]\n",
        "        x_list = []\n",
        "        for t in t_list:\n",
        "            # this is last evaluated value for under damping.\n",
        "            x_list.append(m.exp(alpha * t) * ((x_0 * m.cos(beta * t)) + (v_0 + alpha * x_0 / beta) * m.sin(beta * t)))\n",
        "\n",
        "    plt.plot(t_list, x_list)\n"
      ],
      "metadata": {
        "id": "C7JRyo3b0RXo"
      },
      "execution_count": 14,
      "outputs": []
    },
    {
      "cell_type": "code",
      "source": [
        "# Taking input from user for the case of Over Damping.\n",
        "print('Enter values for Over Damping: ')\n",
        "a = float(input('Enter the cofficient of second derivative: '))\n",
        "b = float(input('Enter the cofficient of first derivative: '))\n",
        "c = float(input('Enter the cofficient of x: '))\n",
        "x_0 = float(input('Enter the value of soution at t=0: '))\n",
        "v_0 = float(input('Enter the value at t=0 of solution derivative: '))"
      ],
      "metadata": {
        "colab": {
          "base_uri": "https://localhost:8080/"
        },
        "id": "ky3Ierpl0Sn3",
        "outputId": "05e1af95-a641-49a2-da05-c2018e5cb2f6"
      },
      "execution_count": 5,
      "outputs": [
        {
          "name": "stdout",
          "output_type": "stream",
          "text": [
            "Enter values for Over Damping: \n",
            "Enter the cofficient of second derivative: 1\n",
            "Enter the cofficient of first derivative: 20\n",
            "Enter the cofficient of x: 95\n",
            "Enter the value of soution at t=0: 1\n",
            "Enter the value at t=0 of solution derivative: 100\n"
          ]
        }
      ]
    },
    {
      "cell_type": "code",
      "source": [
        "lambda_1 = (-b - (b ** 2 - 4 * a * c) ** 0.5) / (2 * a)\n",
        "lambda_2 = (-b + (b ** 2 - 4 * a * c) ** 0.5) / (2 * a)\n",
        "alpha = -b / (2 * a)\n",
        "beta = m.sqrt(abs((b ** 2 / (4 * a ** 2) - (c / a))))\n",
        "graphtype(a, b, c, x_0, v_0)"
      ],
      "metadata": {
        "colab": {
          "base_uri": "https://localhost:8080/",
          "height": 282
        },
        "id": "RjaprMsI0afR",
        "outputId": "5c9ba4d4-06f3-4a4a-aa31-009360bef731"
      },
      "execution_count": 6,
      "outputs": [
        {
          "output_type": "stream",
          "name": "stdout",
          "text": [
            "Damping type is:  Over Damped\n"
          ]
        },
        {
          "output_type": "display_data",
          "data": {
            "text/plain": [
              "<Figure size 432x288 with 1 Axes>"
            ],
            "image/png": "[encoded data removed]"
          },
          "metadata": {
            "needs_background": "light"
          }
        }
      ]
    },
    {
      "cell_type": "code",
      "source": [
        "# Taking input from user for the case of Over Damping.\n",
        "print('Enter values for under Damping: ')\n",
        "a = float(input('Enter the cofficient of second derivative: '))\n",
        "b = float(input('Enter the cofficient of first derivative: '))\n",
        "c = float(input('Enter the cofficient of x: '))\n",
        "x_0 = float(input('Enter the value of soution at t=0: '))\n",
        "v_0 = float(input('Enter the value at t=0 of solution derivative: '))"
      ],
      "metadata": {
        "colab": {
          "base_uri": "https://localhost:8080/"
        },
        "id": "1UTDDmEJ0_dl",
        "outputId": "626f385f-14c9-49c7-d81b-3914138c43a1"
      },
      "execution_count": 8,
      "outputs": [
        {
          "name": "stdout",
          "output_type": "stream",
          "text": [
            "Enter values for Over Damping: \n",
            "Enter the cofficient of second derivative: 1\n",
            "Enter the cofficient of first derivative: 1\n",
            "Enter the cofficient of x: 90\n",
            "Enter the value of soution at t=0: 1\n",
            "Enter the value at t=0 of solution derivative: 100\n"
          ]
        }
      ]
    },
    {
      "cell_type": "code",
      "source": [
        "lambda_1 = (-b - (b ** 2 - 4 * a * c) ** 0.5) / (2 * a)\n",
        "lambda_2 = (-b + (b ** 2 - 4 * a * c) ** 0.5) / (2 * a)\n",
        "alpha = -b / (2 * a)\n",
        "beta = m.sqrt(abs((b ** 2 / (4 * a ** 2) - (c / a))))\n",
        "graphtype(a, b, c, x_0, v_0)"
      ],
      "metadata": {
        "colab": {
          "base_uri": "https://localhost:8080/",
          "height": 286
        },
        "id": "gkzre0W21DWZ",
        "outputId": "c4f09b11-1e9c-4175-8169-1075b12dda72"
      },
      "execution_count": 9,
      "outputs": [
        {
          "output_type": "stream",
          "name": "stdout",
          "text": [
            "Damping type is:  Under Damped\n"
          ]
        },
        {
          "output_type": "display_data",
          "data": {
            "text/plain": [
              "<Figure size 432x288 with 1 Axes>"
            ],
            "image/png": "[encoded data removed]"
          },
          "metadata": {
            "needs_background": "light"
          }
        }
      ]
    },
    {
      "cell_type": "code",
      "source": [
        "# Taking input from user for the case of Under Damping.\n",
        "print('Enter values for critical Damping: ')\n",
        "a = float(input('Enter the cofficient of second derivative: '))\n",
        "b = float(input('Enter the cofficient of first derivative: '))\n",
        "c = float(input('Enter the cofficient of x: '))\n",
        "v_0 = float(input('Enter the value at t=0 of solution derivative: '))"
      ],
      "metadata": {
        "colab": {
          "base_uri": "https://localhost:8080/"
        },
        "id": "hh2DFXgm1h8t",
        "outputId": "d869c5ed-1038-45b5-b573-7c8a8caf0fc8"
      },
      "execution_count": 12,
      "outputs": [
        {
          "name": "stdout",
          "output_type": "stream",
          "text": [
            "Enter values for critical Damping: \n",
            "Enter the cofficient of second derivative: 1\n",
            "Enter the cofficient of first derivative: 2\n",
            "Enter the cofficient of x: 1\n",
            "Enter the value at t=0 of solution derivative: 1\n"
          ]
        }
      ]
    },
    {
      "cell_type": "code",
      "source": [
        "# Calculating lamdas and alpha beta for under damping.\n",
        "lambda_1 = (-b - (b ** 2 - 4 * a * c) ** 0.5) / (2 * a)\n",
        "lambda_2 = (-b + (b ** 2 - 4 * a * c) ** 0.5) / (2 * a)\n",
        "alpha = -b / (2 * a)\n",
        "beta = m.sqrt(abs((b ** 2 / (4 * a ** 2) - (c / a))))\n",
        "graphtype(a, b, c, x_0, v_0)"
      ],
      "metadata": {
        "colab": {
          "base_uri": "https://localhost:8080/",
          "height": 282
        },
        "id": "f-r-nBXA1lda",
        "outputId": "13986540-dcf4-451b-9047-c4ab0d3ea7bd"
      },
      "execution_count": 13,
      "outputs": [
        {
          "output_type": "stream",
          "name": "stdout",
          "text": [
            "Damping type is:  Critically Damped\n"
          ]
        },
        {
          "output_type": "display_data",
          "data": {
            "text/plain": [
              "<Figure size 432x288 with 1 Axes>"
            ],
            "image/png": "[encoded data removed]"
          },
          "metadata": {
            "needs_background": "light"
          }
        }
      ]
    }
  ]
}